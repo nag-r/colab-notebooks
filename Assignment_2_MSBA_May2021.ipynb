{
  "nbformat": 4,
  "nbformat_minor": 0,
  "metadata": {
    "kernelspec": {
      "display_name": "Python 3",
      "language": "python",
      "name": "python3"
    },
    "language_info": {
      "codemirror_mode": {
        "name": "ipython",
        "version": 3
      },
      "file_extension": ".py",
      "mimetype": "text/x-python",
      "name": "python",
      "nbconvert_exporter": "python",
      "pygments_lexer": "ipython3",
      "version": "3.5.2"
    },
    "colab": {
      "name": "Assignment_2_MSBA_May2021.ipynb",
      "provenance": [],
      "collapsed_sections": [],
      "include_colab_link": true
    }
  },
  "cells": [
    {
      "cell_type": "markdown",
      "metadata": {
        "id": "view-in-github",
        "colab_type": "text"
      },
      "source": [
        "<a href=\"https://colab.research.google.com/github/nag-r/colab-notebooks/blob/main/Assignment_2_MSBA_May2021.ipynb\" target=\"_parent\"><img src=\"https://colab.research.google.com/assets/colab-badge.svg\" alt=\"Open In Colab\"/></a>"
      ]
    },
    {
      "cell_type": "markdown",
      "metadata": {
        "id": "Krelpq1L8ALc"
      },
      "source": [
        "### Assignment 2: Strings, Numerics, Booleans, if-then-else"
      ]
    },
    {
      "cell_type": "markdown",
      "metadata": {
        "id": "YW1xsu3O8ALe"
      },
      "source": [
        "#### (2pts) A. Create a variable named `greeting` that contains the string 'hello world'. Print the variable `greeting`."
      ]
    },
    {
      "cell_type": "code",
      "metadata": {
        "collapsed": true,
        "id": "uxc_QHpX8ALe",
        "colab": {
          "base_uri": "https://localhost:8080/"
        },
        "outputId": "3c781f25-8887-415b-d797-ca832c7a7a18"
      },
      "source": [
        "# create variable greeting\n",
        "greeting = 'hello world'\n",
        "\n",
        "# print greeting\n",
        "print(greeting)"
      ],
      "execution_count": null,
      "outputs": [
        {
          "output_type": "stream",
          "text": [
            "hello world\n"
          ],
          "name": "stdout"
        }
      ]
    },
    {
      "cell_type": "markdown",
      "metadata": {
        "id": "5i3nPysO8ALf"
      },
      "source": [
        "#### (6pts) B. You are given the string below that contains all the letters of the alphabet in order. Using indexing and slicing methods, do the following:\n",
        "\n",
        "* Print the first letter of the alphabet\n",
        "* Print the second letter of the alphabet\n",
        "* Print the 3rd to 10th letter of the alphabet (inclusive on both ends)\n",
        "* Print the last letter of the alphabet, using negative indexing\n",
        "* Print the last 10 letters of the alphabet, using negative indexing\n",
        "* Print the fist half of the alphabet; use the `len` command.\n"
      ]
    },
    {
      "cell_type": "code",
      "metadata": {
        "collapsed": true,
        "id": "CLzAedlV8ALf",
        "colab": {
          "base_uri": "https://localhost:8080/"
        },
        "outputId": "d4216bb0-f53f-44be-aa76-4e6185787c03"
      },
      "source": [
        "alphabet = 'ABCDEFGHIJKLMNOPQRSTUVWXYZ'\n",
        "\n",
        "# print the first letter of the alphabet\n",
        "firstletter = alphabet[0]\n",
        "print('First letter of the alphabet is: ', firstletter)\n",
        "\n",
        "# print the second letter of the alphabet\n",
        "secondletter = alphabet[1]\n",
        "print('Second letter of the alphabet is: ', secondletter)\n",
        "\n",
        "# print the 3rd to 10th letter of the alphabet (inclusive on both ends)\n",
        "print(alphabet[2:10])\n",
        "\n",
        "# print the last letter of the alphabet\n",
        "print (alphabet[-1])\n",
        "\n",
        "# print the last 10 letters of the alphabet\n",
        "print(alphabet[-10:])\n",
        "\n",
        "# Print the fist half of the alphabet\n",
        "lengthalphabet = len(alphabet)\n",
        "print(alphabet[:lengthalphabet//2])"
      ],
      "execution_count": null,
      "outputs": [
        {
          "output_type": "stream",
          "text": [
            "First letter of the alphabet is:  A\n",
            "Second letter of the alphabet is:  B\n",
            "CDEFGHIJ\n",
            "Z\n",
            "QRSTUVWXYZ\n",
            "ABCDEFGHIJKLM\n"
          ],
          "name": "stdout"
        }
      ]
    },
    {
      "cell_type": "markdown",
      "metadata": {
        "id": "HmVy9Th88ALf"
      },
      "source": [
        "#### (4pts) C. You are given the height of someone in centimeters. You need to convert it into feet and inches. (Each foot is 30.48 cm. Each inch is 2.54cm. Use variables to store these quantities.). Print the number of feet as an integer, and the number of inches as a decimal with one decimal point."
      ]
    },
    {
      "cell_type": "code",
      "metadata": {
        "collapsed": true,
        "id": "S3tiVDbP8ALg",
        "colab": {
          "base_uri": "https://localhost:8080/"
        },
        "outputId": "b11eb90e-9d70-4e78-ded5-218b56e1950b"
      },
      "source": [
        "height = 175 #in cm\n",
        "\n",
        "onefoot = 30.48 # in cm\n",
        "oneinch = 2.54 # in cm\n",
        "\n",
        "\n",
        "print('Height in feet: ', int(height/onefoot))\n",
        "print('Height in inches: ', round(float(height/oneinch),1))\n"
      ],
      "execution_count": null,
      "outputs": [
        {
          "output_type": "stream",
          "text": [
            "Height in feet:  5\n",
            "Height in inches:  68.9\n"
          ],
          "name": "stdout"
        }
      ]
    },
    {
      "cell_type": "markdown",
      "metadata": {
        "id": "fTiL9lcY8ALg"
      },
      "source": [
        "#### (4pts) D. The Pythagorean Theorem\n",
        "\n",
        "If $a$ and $b$ are the lengths of the two short sides of a right triangle and $c$ is its long side then:\n",
        "\n",
        "$a^2 + b^2 = c^2$\n",
        "\n",
        "You are given a right triangle with side $a=10$ long and side $b=20$ long. How long is side $c$? (Hint: use the math.sqrt function to compute the square root.)"
      ]
    },
    {
      "cell_type": "code",
      "metadata": {
        "id": "Fu5YHp3d8ALg",
        "colab": {
          "base_uri": "https://localhost:8080/"
        },
        "outputId": "7b077316-52e5-478e-d1a8-304f8389542c"
      },
      "source": [
        "import math\n",
        "#print(math.sqrt(2))\n",
        "print('Lenght if side c: ', round(math.sqrt((10**2)+(20**2)),2))\n"
      ],
      "execution_count": null,
      "outputs": [
        {
          "output_type": "stream",
          "text": [
            "Lenght if side c:  22.36\n"
          ],
          "name": "stdout"
        }
      ]
    },
    {
      "cell_type": "markdown",
      "metadata": {
        "id": "0j6ifa1S8ALh"
      },
      "source": [
        "###### The Pythagorean Theorem (cont)\n",
        "\n",
        "Conversely, if the formula $a^2 + b^2 = c^2$ holds then a triangle whose sides have length $a$, $b$ and $c$ is a right triangle. You are given below the lengths of the sides of 3 triangles. Write  the boolean expression that checks if the triangle is a right triangle. Assume that `c` is always the longest side.\n"
      ]
    },
    {
      "cell_type": "code",
      "metadata": {
        "collapsed": true,
        "id": "WIsf-zP98ALh",
        "colab": {
          "base_uri": "https://localhost:8080/"
        },
        "outputId": "ce2d9db1-c7d4-46a7-aad9-0baef82c5e50"
      },
      "source": [
        "# Triangle 1\n",
        "a = 10\n",
        "b = 20\n",
        "c = 30\n",
        "\n",
        "if (c**2 == (a**2+b**2)):\n",
        "  print('Triangle 1 is a right triangle')\n",
        "else:\n",
        "  print('Triangle 1 is not a right triangle')"
      ],
      "execution_count": null,
      "outputs": [
        {
          "output_type": "stream",
          "text": [
            "Triangle 1 is not a right triangle\n"
          ],
          "name": "stdout"
        }
      ]
    },
    {
      "cell_type": "code",
      "metadata": {
        "collapsed": true,
        "id": "GwUDrvkj8ALh",
        "colab": {
          "base_uri": "https://localhost:8080/"
        },
        "outputId": "36ef7a1a-21c1-45df-c45f-da8ef62b8728"
      },
      "source": [
        "# Triangle 2\n",
        "a = 15\n",
        "b = 112\n",
        "c = 113\n",
        "\n",
        "if (c**2 == (a**2+b**2)):\n",
        "  print('Triangle 2 is a right triangle')\n",
        "else:\n",
        "  print('Triangle 2 is not a right triangle')"
      ],
      "execution_count": null,
      "outputs": [
        {
          "output_type": "stream",
          "text": [
            "Triangle 2 is a right triangle\n"
          ],
          "name": "stdout"
        }
      ]
    },
    {
      "cell_type": "code",
      "metadata": {
        "collapsed": true,
        "id": "H8r_-a0S8ALh",
        "colab": {
          "base_uri": "https://localhost:8080/"
        },
        "outputId": "8a9a512d-909c-4c73-cff0-4f6827ed8749"
      },
      "source": [
        "# Triangle 3\n",
        "a = 96\n",
        "b = 247\n",
        "c = 255\n",
        "\n",
        "if (c**2 == (a**2+b**2)):\n",
        "  print('Triangle 3 is a right triangle')\n",
        "else:\n",
        "  print('Triangle 3 is not a right triangle')"
      ],
      "execution_count": null,
      "outputs": [
        {
          "output_type": "stream",
          "text": [
            "Triangle 3 is not a right triangle\n"
          ],
          "name": "stdout"
        }
      ]
    },
    {
      "cell_type": "markdown",
      "metadata": {
        "id": "h7nBrNpA8ALh"
      },
      "source": [
        "#### (8pts) E. Write Boolean expressions for the following.\n",
        "\n",
        "* Can a student graduate? A student can graduate after completing at least 120 credits, and has registered for at least 6 semesters ."
      ]
    },
    {
      "cell_type": "code",
      "metadata": {
        "collapsed": true,
        "id": "TcG5NcrH8ALi",
        "colab": {
          "base_uri": "https://localhost:8080/"
        },
        "outputId": "c13d074e-4f16-42ba-8731-b65e5f5cf154"
      },
      "source": [
        "semesters = 6 # fill your value\n",
        "credits = 100 # fill your value\n",
        "\n",
        "if ((semesters >= 6) & (credits >= 120)):\n",
        "  print('The student can graduate')\n",
        "else:\n",
        "  print('The student can not graduate')"
      ],
      "execution_count": null,
      "outputs": [
        {
          "output_type": "stream",
          "text": [
            "The student can not graduate\n"
          ],
          "name": "stdout"
        }
      ]
    },
    {
      "cell_type": "markdown",
      "metadata": {
        "id": "Mtz6sxlq8ALi"
      },
      "source": [
        "* Can I register today? A student can register on Monday if Senior, on Tuesday if Junior, on Wednesday if Sophomore, and on Thursday if Freshman."
      ]
    },
    {
      "cell_type": "code",
      "metadata": {
        "collapsed": true,
        "id": "yJbGNvsA8ALi",
        "colab": {
          "base_uri": "https://localhost:8080/"
        },
        "outputId": "377ab2a5-07d0-423d-d0b7-ffbcef57b996"
      },
      "source": [
        "status = 'Senior' #also 'Junior', 'Sophomore', 'Freshman'\n",
        "days = 'Tuesday' #also 'Monday', 'Tuesday', 'Wednesday', 'Thurday', 'Friday', 'Saturday'\n",
        "\n",
        "if (status == \"Senior\") & (days == \"Monday\"):\n",
        "  print('Student is a Senior and can register today')\n",
        "elif (status == \"Junior\") & (days == \"Tuesday\"):\n",
        "  print('Student is a Junior and can register today')\n",
        "elif (status == \"Sophomore\") & (days == \"Wednesday\"):\n",
        "  print('Student is a Sophomore and can register today')\n",
        "elif (status == \"Freshman\") & (days == \"Thursday\"):\n",
        "  print('Student is a Freshman and can register today')\n",
        "else:\n",
        "  print('The student can not register today')"
      ],
      "execution_count": null,
      "outputs": [
        {
          "output_type": "stream",
          "text": [
            "The student can not register today\n"
          ],
          "name": "stdout"
        }
      ]
    },
    {
      "cell_type": "markdown",
      "metadata": {
        "id": "VvU2VJm78ALi"
      },
      "source": [
        "#### (4pts) F. Compute and print both roots of the quadratic equation x^2-5.86\\*x+8.5408.\n",
        "\n",
        "Hint: recall that the roots of a quadratic equation $a \\cdot x^2+ b \\cdot x+c$ are $x = \n",
        "\\frac{−b ± \\sqrt{b^2 − 4 \\cdot a \\cdot c}}{ 2 \\cdot a}$\n"
      ]
    },
    {
      "cell_type": "code",
      "metadata": {
        "collapsed": true,
        "id": "8fJEihfx8ALj",
        "colab": {
          "base_uri": "https://localhost:8080/"
        },
        "outputId": "322defc8-ce97-4523-cf6e-940fb06d8644"
      },
      "source": [
        "import math\n",
        "a = 1\n",
        "b = -5.86\n",
        "c = 8.5408\n",
        "\n",
        "# case 1\n",
        "x1 = (-b + math.sqrt(b**2-(4*a*c)))// (2*a)\n",
        "\n",
        "# case 2\n",
        "x2 = (-b - math.sqrt(b**2-(4*a*c)))// (2*a)\n",
        "\n",
        "print(x1,x2)\n"
      ],
      "execution_count": null,
      "outputs": [
        {
          "output_type": "stream",
          "text": [
            "3.0 2.0\n"
          ],
          "name": "stdout"
        }
      ]
    },
    {
      "cell_type": "markdown",
      "metadata": {
        "id": "kDMOa_HQ8ALj"
      },
      "source": [
        "#### (8pts) H.  You are given two articles below, regarding North and South Korea. The `article1` is from [Reuters](http://www.reuters.com/article/us-un-assembly-southkorea-northkorea-idUSKCN11T04N) and `article2` is from [Korea Herald](http://www.koreaherald.com/view.php?ud=20160923000173).\n",
        "\n",
        "* (1pts) Compute the length of each article in characters.\n",
        "* (1pts) Compute the length of each article length in words.\n",
        "* (1pts) Compute the length of each article in sentences. Assume that the period `.` is the separator between sentences.\n",
        "* (1pts) What is the average length of each sentence in words, for each article?\n",
        "* (2pts) Is `Obama` mentioned in `article1`? Is `Obama` mentioned in `article2`?\n",
        "* (2pts) How many times is `Korea` mentioned in in `article1` and how many times in `article2`? It is fine if your code also counts `Korean`."
      ]
    },
    {
      "cell_type": "code",
      "metadata": {
        "collapsed": true,
        "id": "RTzel0V58ALj"
      },
      "source": [
        "article1 = \"\"\" South Korean Foreign Minister Yun Byung-se accused North Korea on Thursday of \"totally ridiculing\" the authority of the United Nations through its nuclear and missile tests ad said it was tie to reconsider whether it was qualified for UN membership.   In an address to the annual United Nations General Assembly, Yun said the UN security Council should adopt \"stronger, comprehensive\" sanctions on North Korea after its fifth nuclear test on Sept 9 and close loopholes in existing measures.   \"North Korea's repeated violations and non-compliance of Security Council resolutions and international norms is unprecedented and has no parallel in the history of the UN\", Yun said.   \"North Korea is totally ridiculing the authority of the General Assembly and the Security Council,\" he said.   \"Therefore, I believe it is high time to seriously reconsider whether North Korea is qualified as a peace-loving UN member, as many countries are already questioning\".    Yun said North Korea had not only advanced its nuclear and missile capacity, but publicly threatened to use those weapons preemptively.   He said it was the \"last chance\" to put a brake on its nuclear ambitions.   Yun also called for action against North Korea's violations of the rights of its own people, and said there should be greater focus on North Korean workers abroad and the possible diversion of their wages to weapons programs.   Discussions are already under way on a possible new UN sanctions resolution on North Korea after its latest nuclear test.   Analysts and diplomats say much depends on China's attitude.   China is North Korea's main ally, but has been angered by its repeated missile and nuclear tests and backed tough UN sanctions on Pyongyang in March.   At the same time, it has repeatedly called for a return to international talks to resolve the issue, in spite of the skepticism of other world powers.   Chinese Premier Li Keqiang told the General Assembly on Wednesday countries must remain committed to denuclearization of the Korean peninsula, while seeking a solution to the North Korean nuclear issue through dialogue.   The United States said Li and US President Barack Obama agreed in New York on Monday to step up cooperation in the UN Security Council and in law enforcement channels Japanese Prime Minister Shinzo Abe said on Wednesday the threat posed by North Korea was \"substantially more serious\" than in the past and demanded an \"entirely distinct\" response.\"\"\"\n",
        "article2 = \"\"\" The UN Security Council should go beyond simply discussing North Korea's human rights violations and take \"meaningful action,\" South Korean Foreign Minister Yun Byung-se said Thursday, as the council is considering fresh sanctions on Pyongyang for its fifth nuclear test.  Yun made the remark during a meeting with South Korean correspondents in New York, saying the North's human rights abuses will be one of the key focuses of an address he was scheduled to deliver at the UN General Assembly later in the day.  Yun said it makes no sense for the North to ask for international aid to cope with the aftermath of a massive flood after wasting money on a nuclear test.  \"North Korea cares nothing about people's hardships while wasting an enormous amount of money.  I will strongly point out these dual attitudes and the North's disregard for human rights at the United Nations,\" Yun told reporters Yun's remarks came as the Security Council has been working on new sanctions on the North for its Sept 9 nuclear test, and suggest that a new sanctions package could include measures with regard to Pyongyang's human rights violations.  A senior government official also said on condition of anonymity that the Security Council might impose sanctions not only over the North's nuclear and missile programs, but also over its human rights abuses.  The official spoke on condition of anonymity.  The official also said a new sanctions resolution is expected to be adopted in a shorter period of time than after the North's fourth nuclear test in January when it took 57 days to adopt a resolution.  \"I expect an additional resolution will be adopted within a reasonable period of time,\" the official said.  The official also said that the previous resolution, considered the toughest sanctions on the North ever, is having considerable effects on the North.  The US is also expected to take additional unilateral sanctions on Pyongyang, too, the official said.  The official said it's not the right time to hold negotiations with the North because it could justify the North's bad behavior.  The UN General Assembly adopted a landmark resolution calling for referring the issue to the International Criminal Court for two years in a row in 2014 and last year.  Under the resolutions, the Security Council also held discussions on the issue twice.  While in New York, Yun said he has held meetings with various US figures that could lead the security and foreign policy in the next US administration.  He did not provide further specifics, including who those people were, and which campaign they're with.  Yun said that he stressed in those meetings that the Korea-US alliance is a key pillar in the Asia-Pacific region and a core point of the rebalancing toward Asia-Pacific, and that the Korea-US free trade agreement has contributed greatly to enhancing mutual interests of the two countries.\"\"\""
      ],
      "execution_count": null,
      "outputs": []
    },
    {
      "cell_type": "code",
      "metadata": {
        "collapsed": true,
        "id": "R95tTLlz8ALo",
        "colab": {
          "base_uri": "https://localhost:8080/"
        },
        "outputId": "8c6d064a-b6ca-441e-ce37-f2fff1e098ab"
      },
      "source": [
        "# Compute the length of each article in characters.\n",
        "print('length of characters in article1 is: ',len(article1))\n",
        "print('length of characters in article2 is: ',len(article2))"
      ],
      "execution_count": null,
      "outputs": [
        {
          "output_type": "stream",
          "text": [
            "length of characters in article1 is:  2465\n",
            "length of characters in article2 is:  2892\n"
          ],
          "name": "stdout"
        }
      ]
    },
    {
      "cell_type": "code",
      "metadata": {
        "collapsed": true,
        "id": "VCdDyGrI8ALr",
        "colab": {
          "base_uri": "https://localhost:8080/"
        },
        "outputId": "528d148e-be2e-44d4-f564-6c6fd2891458"
      },
      "source": [
        "# Compute the length of each article length in words.\n",
        "\n",
        "print('length of words in article1 is: ',len(article1.split()))\n",
        "print('length of words in article2 is: ',len(article2.split()))"
      ],
      "execution_count": null,
      "outputs": [
        {
          "output_type": "stream",
          "text": [
            "length of words in article1 is:  394\n",
            "length of words in article2 is:  476\n"
          ],
          "name": "stdout"
        }
      ]
    },
    {
      "cell_type": "code",
      "metadata": {
        "collapsed": true,
        "id": "c_cEzfTf8ALs",
        "colab": {
          "base_uri": "https://localhost:8080/"
        },
        "outputId": "8b24f1af-f524-4f26-8536-212e63c3c883"
      },
      "source": [
        "# Compute the length of each article in sentences. Assume that the period . is the separator between sentences.\n",
        "print('length of sentences in article1 is: ',len(article1.split(\".\")))\n",
        "print('length of sentences in article2 is: ',len(article2.split(\".\")))"
      ],
      "execution_count": null,
      "outputs": [
        {
          "output_type": "stream",
          "text": [
            "length of sentences in article1 is:  15\n",
            "length of sentences in article2 is:  18\n"
          ],
          "name": "stdout"
        }
      ]
    },
    {
      "cell_type": "code",
      "metadata": {
        "collapsed": true,
        "id": "I0QpMFbK8ALs",
        "colab": {
          "base_uri": "https://localhost:8080/"
        },
        "outputId": "d62eba16-748a-48e2-cd14-bf63afdf14cf"
      },
      "source": [
        "# What is the average length of each sentence in words, for each article?\n",
        "\n",
        "from numpy import mean\n",
        "print('mean length of each words in article1 is: ',mean(len(article1.split())))\n",
        "print('mean length of each words in article2 is: ',mean(len(article2.split())))"
      ],
      "execution_count": null,
      "outputs": [
        {
          "output_type": "stream",
          "text": [
            "mean length of each words in article1 is:  394.0\n",
            "mean length of each words in article2 is:  476.0\n"
          ],
          "name": "stdout"
        }
      ]
    },
    {
      "cell_type": "code",
      "metadata": {
        "collapsed": true,
        "id": "pinZZJF38ALs",
        "colab": {
          "base_uri": "https://localhost:8080/"
        },
        "outputId": "278907a8-f6c3-4d1c-e6fa-a2a991b57386"
      },
      "source": [
        "# Is Obama mentioned in article1? Is Obama mentioned in article2?\n",
        "\n",
        "if (article1.find('Obama') != -1):\n",
        "    print (\"Obama is mentioned in article1 \")\n",
        "else:\n",
        "  print (\"Obama is not mentioned in article1 \")\n",
        "\n",
        "# Is Obama mentioned in article2?\n",
        "if (article2.find('Obama') != -1):\n",
        "    print (\"Obama is mentioned in article2 \")\n",
        "else:\n",
        "  print (\"Obama is not mentioned in article2 \")\n"
      ],
      "execution_count": null,
      "outputs": [
        {
          "output_type": "stream",
          "text": [
            "Obama is mentioned in article1 \n",
            "Obama is not mentioned in article2 \n"
          ],
          "name": "stdout"
        }
      ]
    },
    {
      "cell_type": "code",
      "metadata": {
        "collapsed": true,
        "id": "nZp3L-Y_8ALs",
        "colab": {
          "base_uri": "https://localhost:8080/"
        },
        "outputId": "b24d9cd4-41f1-423f-bd3d-14152f88463c"
      },
      "source": [
        "# How many times is Korea mentioned in in article1 and how many times in article2?\n",
        "import string\n",
        "result1 = article1.split()\n",
        "result2 = article2.split()\n",
        "print (\"The word 'Korea' occurs in article1: \" + str(result1.count(\"Korea\")))\n",
        "print (\"The word 'Korea' occurs in article2: \" + str(result2.count(\"Korea\")))"
      ],
      "execution_count": null,
      "outputs": [
        {
          "output_type": "stream",
          "text": [
            "The word 'Korea' occurs in article1: 7\n",
            "The word 'Korea' occurs in article2: 1\n"
          ],
          "name": "stdout"
        }
      ]
    },
    {
      "cell_type": "markdown",
      "metadata": {
        "collapsed": true,
        "id": "LuEQ0hoI8ALs"
      },
      "source": [
        "#### (4pts) I. Voting Eligibility\n",
        "\n",
        "You need to be above 18 and a US Citizen, to be able to vote. You also need to be registered. Write the conditional expression that checks for these conditions and prints out whether the person can vote. If the person cannot vote, the code should print out the reason (below 18, or not a US citizen, or not registered, or a combination thereof).\n"
      ]
    },
    {
      "cell_type": "code",
      "metadata": {
        "collapsed": true,
        "id": "gB66n_y68ALt",
        "colab": {
          "base_uri": "https://localhost:8080/"
        },
        "outputId": "fd2953cf-44f7-4681-95bf-809ae794e57b"
      },
      "source": [
        "# define variables\n",
        "age = 19\n",
        "citizenship = 'USA'\n",
        "registration_status = 'yes'\n",
        "\n",
        "reason1 = 'You can not vote since your age is not greater than 18'\n",
        "reason2 = 'You can not vote since your not a citizen of USA'\n",
        "reasone3 = 'You can not vote since your not registered'\n",
        "\n",
        "if ((age>18)&(citizenship == 'USA')&(registration_status == 'yes')):\n",
        "  print('Your eligible to vote!')\n",
        "\n",
        "if (age <= 18 ):\n",
        "  print(reason1)\n",
        "if (citizenship != 'USA'):\n",
        "  print(reason2)\n",
        "if (registration_status != 'yes'):\n",
        "  print(reasone3)\n"
      ],
      "execution_count": null,
      "outputs": [
        {
          "output_type": "stream",
          "text": [
            "Your eligible to vote!\n"
          ],
          "name": "stdout"
        }
      ]
    },
    {
      "cell_type": "markdown",
      "metadata": {
        "id": "Gllycwsk8ALt"
      },
      "source": [
        "#### (5pts) J. Pay Rate\n",
        "\n",
        "A worker gets paid an hourly wage, when working up to 40 hours per week. When the time at work goes above 40 hours in a week, the worker is being paid overtime rate, which is 1.5 times the hourly wage. Given the hours worked per week, and the hourly wage, compute the weekly salary of the worker."
      ]
    },
    {
      "cell_type": "code",
      "metadata": {
        "collapsed": true,
        "id": "cNSOTDUz8ALt",
        "colab": {
          "base_uri": "https://localhost:8080/"
        },
        "outputId": "43c7c822-935e-4b8a-e8b1-7b43e96844ab"
      },
      "source": [
        "# create variable and assign values\n",
        "# hourly wage is $100/hour\n",
        "import math\n",
        "hourlywage = 50\n",
        "overtimerate = 1.5\n",
        "weekly_hours_worked = input('Enter number of hours worked per week: ')\n",
        "weekly_hours_worked = int(weekly_hours_worked)\n",
        "\n",
        "if (weekly_hours_worked > 40):\n",
        "  overtimewage = (weekly_hours_worked - 40)*hourlywage*overtimerate\n",
        "  totalwage = (40*hourlywage) + overtimewage\n",
        "  totalwage = float(totalwage)\n",
        "  print('Your weekly salary is: USD',round(totalwage,2))\n",
        "else:\n",
        "  totalwage = weekly_hours_worked*hourlywage\n",
        "  totalwage = float(totalwage)\n",
        "  print('Your weekly salary is: USD',round(totalwage,2))\n",
        "\n"
      ],
      "execution_count": null,
      "outputs": [
        {
          "output_type": "stream",
          "text": [
            "Enter number of hours worked per week: 41\n",
            "Your weekly salary is: USD 2075.0\n"
          ],
          "name": "stdout"
        }
      ]
    },
    {
      "cell_type": "markdown",
      "metadata": {
        "id": "8ZFO9T048ALt"
      },
      "source": [
        "#### (5pts) K. Course grade \n",
        "\n",
        "Write a program to prompt for a score between 0.0 and 1.0. If the\n",
        "score is out of range, print an error message. If the score is between 0.0 and 1.0,\n",
        "print a grade using the following table:\n",
        "\n",
        "```\n",
        "Score   Grade\n",
        ">1      Error: Too big\n",
        ">=0.9   A\n",
        ">=0.8   B\n",
        ">=0.7   C\n",
        ">=0.6   D\n",
        "<0.6    F\n",
        "<0      Error: Too small\n",
        "```"
      ]
    },
    {
      "cell_type": "code",
      "metadata": {
        "collapsed": true,
        "id": "yYdXjZVo8ALt",
        "colab": {
          "base_uri": "https://localhost:8080/"
        },
        "outputId": "16611221-c26c-4eaa-aa31-a12cc06a0b20"
      },
      "source": [
        "\n",
        "score = input('Enter a score between 0.0 and 1.0')\n",
        "score = float(score)\n",
        "\n",
        "if (score >1):\n",
        "  print('Your Grade is: Error: Too big')\n",
        "elif (score >=0.9):\n",
        "  print('Your Grade is: A')\n",
        "elif (score >=0.8):\n",
        "  print('Your Grade is: B')\n",
        "elif (score >=0.7):\n",
        "  print('Your Grade is: C')\n",
        "elif (score >=0.6):\n",
        "  print('Your Grade is: D')\n",
        "elif (score <0.6)&(score >0):\n",
        "  print('Your Grade is: F')\n",
        "elif (score <0):\n",
        "  print('Your Grade is: Error: Too small')\n",
        "else:\n",
        "  print('Incorrect input format')\n"
      ],
      "execution_count": null,
      "outputs": [
        {
          "output_type": "stream",
          "text": [
            "Enter a score between 0.0 and 1.00.9\n",
            "Your Grade is: A\n"
          ],
          "name": "stdout"
        }
      ]
    }
  ]
}