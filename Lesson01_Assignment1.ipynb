{
  "nbformat": 4,
  "nbformat_minor": 0,
  "metadata": {
    "colab": {
      "name": "Lesson01 Assignment1.ipynb",
      "provenance": [],
      "collapsed_sections": [],
      "authorship_tag": "ABX9TyP4iS/jvQf3rjgb2yTDi+Ew",
      "include_colab_link": true
    },
    "kernelspec": {
      "name": "python3",
      "display_name": "Python 3"
    },
    "language_info": {
      "name": "python"
    }
  },
  "cells": [
    {
      "cell_type": "markdown",
      "metadata": {
        "id": "view-in-github",
        "colab_type": "text"
      },
      "source": [
        "<a href=\"https://colab.research.google.com/github/nag-r/colab-notebooks/blob/main/Lesson01_Assignment1.ipynb\" target=\"_parent\"><img src=\"https://colab.research.google.com/assets/colab-badge.svg\" alt=\"Open In Colab\"/></a>"
      ]
    },
    {
      "cell_type": "markdown",
      "metadata": {
        "id": "_snn3vo4rbEA"
      },
      "source": [
        "Author: Nag Rajendran\n",
        "\n",
        "Assignment 01\n",
        "\n",
        "01/06/2021\n",
        "\n",
        "\n",
        "1. New York City sales tax on goods and services is 8.875%. Compute the total bill (including sales tax) for the following goods. Round to two decimal places.\n",
        "\n",
        "  Macbook pro - $1,299\n",
        "\n",
        "  Magic mouse - $79.00\n",
        "\n",
        "  Case of copy paper - $24.99\n",
        "\n",
        "  Hint: Order of operations, + and - operators, round() function"
      ]
    },
    {
      "cell_type": "code",
      "metadata": {
        "colab": {
          "base_uri": "https://localhost:8080/"
        },
        "id": "8jdN_r5LsGdP",
        "outputId": "062e030f-d8f4-40b9-930a-473167e9d499"
      },
      "source": [
        "# total bill\n",
        "totalbill = round(((1299+79+24)* 0.0875) + (1299+79+24),2)\n",
        "print(\"Total Bill is: $\",totalbill)"
      ],
      "execution_count": null,
      "outputs": [
        {
          "output_type": "stream",
          "text": [
            "Total Bill is: $ 1524.67\n"
          ],
          "name": "stdout"
        }
      ]
    },
    {
      "cell_type": "code",
      "metadata": {
        "colab": {
          "base_uri": "https://localhost:8080/",
          "height": 37
        },
        "id": "UScUN887tB-o",
        "outputId": "9a00348f-9fd0-4e35-8068-44f3e9ffefbf"
      },
      "source": [
        "\"Nag \"* 2"
      ],
      "execution_count": null,
      "outputs": [
        {
          "output_type": "execute_result",
          "data": {
            "application/vnd.google.colaboratory.intrinsic+json": {
              "type": "string"
            },
            "text/plain": [
              "'Nag Nag '"
            ]
          },
          "metadata": {
            "tags": []
          },
          "execution_count": 12
        }
      ]
    }
  ]
}